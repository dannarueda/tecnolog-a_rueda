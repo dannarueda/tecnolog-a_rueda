{
  "nbformat": 4,
  "nbformat_minor": 0,
  "metadata": {
    "colab": {
      "provenance": [],
      "collapsed_sections": []
    },
    "kernelspec": {
      "name": "python3",
      "display_name": "Python 3"
    },
    "language_info": {
      "name": "python"
    }
  },
  "cells": [
    {
      "cell_type": "code",
      "execution_count": null,
      "metadata": {
        "id": "OcAoOF2WqUGW"
      },
      "outputs": [],
      "source": [
        "\n"
      ]
    },
    {
      "cell_type": "markdown",
      "source": [
        "<center>\n",
        "\n",
        "#**COLEGIO SIGLO XXI - EL SOCORRO**\n",
        "#**PRESENTADO A : ING PAOLA ANDREA QUINTERO**\n",
        "#**PRESENTADO POR : DANNA ISABELLA RUEDA MARÍN**\n",
        "#**GRADO DÉCIMO**\n",
        "#**8 SEPTIEMBRE 2022**"
      ],
      "metadata": {
        "id": "j8UnXeekreIN"
      }
    },
    {
      "cell_type": "markdown",
      "source": [
        "#**¿Qué es Python?**\n",
        "# Python es un lenguaje de programación flexible y diseñado para ser fácil de leer. Es un lenguaje orientado a objetos y de alto nivel. Gracias a su sintaxis sencilla es un muy buen lenguaje para aprender a programar. Python utiliza módulos y paquetes lo cual fomenta la modularidad y la reutilización de código.\n",
        "\n",
        "#**Fecha de lanzamiento**: 1991\n",
        "\n",
        "#**Creadores**:Guido Van Rossum\n",
        "\n",
        "#**Recuperado de:**https://datademia.es/blog/que-es-python"
      ],
      "metadata": {
        "id": "L6Q8qCDk01pA"
      }
    },
    {
      "cell_type": "code",
      "source": [
        "print(\"Esto es una suma\")\n",
        "numero_uno= 52\n",
        "numero_dos= 9\n",
        "resultado= numero_uno + numero_dos\n",
        "print(resultado)"
      ],
      "metadata": {
        "colab": {
          "base_uri": "https://localhost:8080/"
        },
        "id": "DKmHC4k93DLL",
        "outputId": "2fdcb89d-7e40-49dd-97b8-7c3a340a9559"
      },
      "execution_count": null,
      "outputs": [
        {
          "output_type": "stream",
          "name": "stdout",
          "text": [
            "Esto es una suma\n",
            "61\n"
          ]
        }
      ]
    },
    {
      "cell_type": "code",
      "source": [
        "print(\"Esto es una resta\")\n",
        "numero_uno= 19\n",
        "numero_dos= 13\n",
        "resultado= numero_uno - numero_dos\n",
        "print(resultado)"
      ],
      "metadata": {
        "colab": {
          "base_uri": "https://localhost:8080/"
        },
        "id": "sHms6ud_3pM5",
        "outputId": "e4564f4b-e0ea-42d6-9003-ec89d574a800"
      },
      "execution_count": null,
      "outputs": [
        {
          "output_type": "stream",
          "name": "stdout",
          "text": [
            "Esto es una resta\n",
            "6\n"
          ]
        }
      ]
    },
    {
      "cell_type": "code",
      "source": [
        "print(\"Esto es una multiplicación\")\n",
        "numero_uno= 47\n",
        "numero_dos= 9\n",
        "resultado= numero_uno * numero_dos\n",
        "print(resultado)"
      ],
      "metadata": {
        "colab": {
          "base_uri": "https://localhost:8080/"
        },
        "id": "q-qDgrs-39hY",
        "outputId": "7024dbba-2d2a-4114-b780-cd6daa6dffea"
      },
      "execution_count": null,
      "outputs": [
        {
          "output_type": "stream",
          "name": "stdout",
          "text": [
            "Esto es una multiplicación\n",
            "423\n"
          ]
        }
      ]
    },
    {
      "cell_type": "code",
      "source": [
        "print(\"Esto es una división\")\n",
        "numero_uno= 80\n",
        "numero_dos= 4\n",
        "resultado= numero_uno / numero_dos\n",
        "print(resultado)"
      ],
      "metadata": {
        "colab": {
          "base_uri": "https://localhost:8080/"
        },
        "id": "n1YyiEHC4yX5",
        "outputId": "e8aa8905-a103-4abf-8e21-681de878995f"
      },
      "execution_count": null,
      "outputs": [
        {
          "output_type": "stream",
          "name": "stdout",
          "text": [
            "Esto es una división\n",
            "20.0\n"
          ]
        }
      ]
    },
    {
      "cell_type": "markdown",
      "source": [
        "#**Ejercicios de Tipos de Datos Simples**"
      ],
      "metadata": {
        "id": "8m1CvUF55Hjf"
      }
    },
    {
      "cell_type": "markdown",
      "source": [
        "## Ejercicio 1\n",
        "\n",
        "Escribe un programa que pregunte el nombre del usuario en la consola y un número entero e imprima por pantalla en líneas distintas el nombre del usuario tantas veces como el número introducido."
      ],
      "metadata": {
        "id": "R5J74nIvwizo"
      }
    },
    {
      "cell_type": "code",
      "source": [
        " nombre = input(\"¿Cómo te llamas?\") \n",
        " n = input(\"Introduce un número entero:\")\n",
        "print((nombre + \"\\n\") * int(n))"
      ],
      "metadata": {
        "colab": {
          "base_uri": "https://localhost:8080/"
        },
        "id": "OJRHojeOzj-O",
        "outputId": "41f5da39-9c79-44b6-ad68-c279f6361859"
      },
      "execution_count": null,
      "outputs": [
        {
          "output_type": "stream",
          "name": "stdout",
          "text": [
            "¿Cómo te llamas?Danna Isabella Rueda Marín\n",
            "Introduce un número entero:15\n",
            "Danna Isabella Rueda Marín\n",
            "Danna Isabella Rueda Marín\n",
            "Danna Isabella Rueda Marín\n",
            "Danna Isabella Rueda Marín\n",
            "Danna Isabella Rueda Marín\n",
            "Danna Isabella Rueda Marín\n",
            "Danna Isabella Rueda Marín\n",
            "Danna Isabella Rueda Marín\n",
            "Danna Isabella Rueda Marín\n",
            "Danna Isabella Rueda Marín\n",
            "Danna Isabella Rueda Marín\n",
            "Danna Isabella Rueda Marín\n",
            "Danna Isabella Rueda Marín\n",
            "Danna Isabella Rueda Marín\n",
            "Danna Isabella Rueda Marín\n",
            "\n"
          ]
        }
      ]
    },
    {
      "cell_type": "markdown",
      "source": [
        "## Ejercicio 2\n",
        "Escribir un programa que pida al usuario su peso (en kg) y estatura (en metros), calcule el índice de masa corporal y lo almacene en una variable, e imprima por pantalla la frase 'Tu índice de masa corporal es <imc>' donde '<imc>' es el índice de masa corporal calculado redondeado con dos decimales.  "
      ],
      "metadata": {
        "id": "Z7YTRmx80ZaR"
      }
    },
    {
      "cell_type": "code",
      "source": [
        "peso = input(\"¿cuál es tu peso en kg?\")\n",
        "estatura = input(\"¿cuál es tu estatura en metros?\")\n",
        "imc = round(float(peso)/float(estatura)**2,2)\n",
        "print(\"tu índice de masa corporal es\" + str(imc))"
      ],
      "metadata": {
        "colab": {
          "base_uri": "https://localhost:8080/"
        },
        "id": "bpAGmOoO8BY_",
        "outputId": "2ea90c10-24c2-42ff-b7b4-11e99ce2e9a0"
      },
      "execution_count": null,
      "outputs": [
        {
          "output_type": "stream",
          "name": "stdout",
          "text": [
            "¿cuál es tu peso en kg?65\n",
            "¿cuál es tu estatura en metros?1.68\n",
            "tu índice de masa corporal es23.03\n"
          ]
        }
      ]
    },
    {
      "cell_type": "markdown",
      "source": [
        "# **LIBRERÍAS EN PHYTON**\n"
      ],
      "metadata": {
        "id": "rlyz9jtS3EmS"
      }
    }
  ]
}